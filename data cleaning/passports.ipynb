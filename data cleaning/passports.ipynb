{
 "cells": [
  {
   "cell_type": "code",
   "id": "initial_id",
   "metadata": {
    "collapsed": true,
    "ExecuteTime": {
     "end_time": "2025-05-24T14:52:55.239574Z",
     "start_time": "2025-05-24T14:52:55.172265Z"
    }
   },
   "source": "import pandas as pd",
   "outputs": [],
   "execution_count": 10
  },
  {
   "metadata": {
    "ExecuteTime": {
     "end_time": "2025-05-24T15:02:39.045165Z",
     "start_time": "2025-05-24T15:02:39.038778Z"
    }
   },
   "cell_type": "code",
   "source": [
    "def reshape_passport(df):\n",
    "    '''\n",
    "    pivot style the passports index db\n",
    "    '''\n",
    "    # Melt the DataFrame to long format\n",
    "    df_long = df.reset_index().melt(id_vars=df.index.name,\n",
    "                                    var_name='to',\n",
    "                                    value_name='value')\n",
    "\n",
    "    # Rename 'index' column to 'from'\n",
    "    df_long.rename(columns={df.index.name: 'from'}, inplace=True)\n",
    "\n",
    "    # Filter out diagonal (self-relations where from == to or value == -1)\n",
    "    df_long = df_long[df_long['from'] != df_long['to']]\n",
    "    df_long = df_long[df_long['value'] != -1]\n",
    "    return df_long"
   ],
   "id": "618f324b3d82881b",
   "outputs": [],
   "execution_count": 49
  },
  {
   "metadata": {
    "ExecuteTime": {
     "end_time": "2025-05-24T15:02:39.762770Z",
     "start_time": "2025-05-24T15:02:39.733079Z"
    }
   },
   "cell_type": "code",
   "source": "df = pd.read_csv('passports.csv', index_col=0)",
   "id": "3baaadb2d7c1b44d",
   "outputs": [],
   "execution_count": 50
  },
  {
   "metadata": {
    "ExecuteTime": {
     "end_time": "2025-05-24T15:02:50.735389Z",
     "start_time": "2025-05-24T15:02:50.683006Z"
    }
   },
   "cell_type": "code",
   "source": [
    "passport = reshape_passport(df)\n",
    "print(x)"
   ],
   "id": "6e3ef91e2948f35e",
   "outputs": [
    {
     "name": "stdout",
     "output_type": "stream",
     "text": [
      "                      from           to          value\n",
      "0              Afghanistan      Albania         e-visa\n",
      "2                  Algeria      Albania         e-visa\n",
      "3                  Andorra      Albania             90\n",
      "4                   Angola      Albania         e-visa\n",
      "5      Antigua and Barbuda      Albania             90\n",
      "...                    ...          ...            ...\n",
      "39596            Venezuela  Afghanistan  visa required\n",
      "39597              Vietnam  Afghanistan  visa required\n",
      "39598                Yemen  Afghanistan  visa required\n",
      "39599               Zambia  Afghanistan  visa required\n",
      "39600             Zimbabwe  Afghanistan  visa required\n",
      "\n",
      "[39402 rows x 3 columns]\n"
     ]
    }
   ],
   "execution_count": 52
  },
  {
   "metadata": {
    "ExecuteTime": {
     "end_time": "2025-05-24T15:02:51.616957Z",
     "start_time": "2025-05-24T15:02:51.542010Z"
    }
   },
   "cell_type": "code",
   "source": "passport[passport['from'] == 'Israel']",
   "id": "849d16eff439666a",
   "outputs": [
    {
     "data": {
      "text/plain": [
       "         from                   to            value\n",
       "82     Israel              Albania               90\n",
       "281    Israel              Algeria     no admission\n",
       "480    Israel              Andorra               90\n",
       "679    Israel               Angola               30\n",
       "878    Israel  Antigua and Barbuda           e-visa\n",
       "...       ...                  ...              ...\n",
       "38688  Israel              Vietnam           e-visa\n",
       "38887  Israel                Yemen     no admission\n",
       "39086  Israel               Zambia  visa on arrival\n",
       "39285  Israel             Zimbabwe  visa on arrival\n",
       "39484  Israel          Afghanistan    visa required\n",
       "\n",
       "[198 rows x 3 columns]"
      ],
      "text/html": [
       "<div>\n",
       "<style scoped>\n",
       "    .dataframe tbody tr th:only-of-type {\n",
       "        vertical-align: middle;\n",
       "    }\n",
       "\n",
       "    .dataframe tbody tr th {\n",
       "        vertical-align: top;\n",
       "    }\n",
       "\n",
       "    .dataframe thead th {\n",
       "        text-align: right;\n",
       "    }\n",
       "</style>\n",
       "<table border=\"1\" class=\"dataframe\">\n",
       "  <thead>\n",
       "    <tr style=\"text-align: right;\">\n",
       "      <th></th>\n",
       "      <th>from</th>\n",
       "      <th>to</th>\n",
       "      <th>value</th>\n",
       "    </tr>\n",
       "  </thead>\n",
       "  <tbody>\n",
       "    <tr>\n",
       "      <th>82</th>\n",
       "      <td>Israel</td>\n",
       "      <td>Albania</td>\n",
       "      <td>90</td>\n",
       "    </tr>\n",
       "    <tr>\n",
       "      <th>281</th>\n",
       "      <td>Israel</td>\n",
       "      <td>Algeria</td>\n",
       "      <td>no admission</td>\n",
       "    </tr>\n",
       "    <tr>\n",
       "      <th>480</th>\n",
       "      <td>Israel</td>\n",
       "      <td>Andorra</td>\n",
       "      <td>90</td>\n",
       "    </tr>\n",
       "    <tr>\n",
       "      <th>679</th>\n",
       "      <td>Israel</td>\n",
       "      <td>Angola</td>\n",
       "      <td>30</td>\n",
       "    </tr>\n",
       "    <tr>\n",
       "      <th>878</th>\n",
       "      <td>Israel</td>\n",
       "      <td>Antigua and Barbuda</td>\n",
       "      <td>e-visa</td>\n",
       "    </tr>\n",
       "    <tr>\n",
       "      <th>...</th>\n",
       "      <td>...</td>\n",
       "      <td>...</td>\n",
       "      <td>...</td>\n",
       "    </tr>\n",
       "    <tr>\n",
       "      <th>38688</th>\n",
       "      <td>Israel</td>\n",
       "      <td>Vietnam</td>\n",
       "      <td>e-visa</td>\n",
       "    </tr>\n",
       "    <tr>\n",
       "      <th>38887</th>\n",
       "      <td>Israel</td>\n",
       "      <td>Yemen</td>\n",
       "      <td>no admission</td>\n",
       "    </tr>\n",
       "    <tr>\n",
       "      <th>39086</th>\n",
       "      <td>Israel</td>\n",
       "      <td>Zambia</td>\n",
       "      <td>visa on arrival</td>\n",
       "    </tr>\n",
       "    <tr>\n",
       "      <th>39285</th>\n",
       "      <td>Israel</td>\n",
       "      <td>Zimbabwe</td>\n",
       "      <td>visa on arrival</td>\n",
       "    </tr>\n",
       "    <tr>\n",
       "      <th>39484</th>\n",
       "      <td>Israel</td>\n",
       "      <td>Afghanistan</td>\n",
       "      <td>visa required</td>\n",
       "    </tr>\n",
       "  </tbody>\n",
       "</table>\n",
       "<p>198 rows × 3 columns</p>\n",
       "</div>"
      ]
     },
     "execution_count": 53,
     "metadata": {},
     "output_type": "execute_result"
    }
   ],
   "execution_count": 53
  },
  {
   "metadata": {},
   "cell_type": "code",
   "outputs": [],
   "execution_count": null,
   "source": "",
   "id": "409393ed69735f3e"
  }
 ],
 "metadata": {
  "kernelspec": {
   "display_name": "Python 3",
   "language": "python",
   "name": "python3"
  },
  "language_info": {
   "codemirror_mode": {
    "name": "ipython",
    "version": 2
   },
   "file_extension": ".py",
   "mimetype": "text/x-python",
   "name": "python",
   "nbconvert_exporter": "python",
   "pygments_lexer": "ipython2",
   "version": "2.7.6"
  }
 },
 "nbformat": 4,
 "nbformat_minor": 5
}
